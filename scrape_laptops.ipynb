{
 "cells": [
  {
   "cell_type": "markdown",
   "metadata": {},
   "source": [
    "# Imports"
   ]
  },
  {
   "cell_type": "code",
   "execution_count": 8,
   "metadata": {},
   "outputs": [],
   "source": [
    "import pandas as pd\n",
    "import random\n",
    "import requests\n",
    "import time\n",
    "from bs4 import BeautifulSoup"
   ]
  },
  {
   "cell_type": "markdown",
   "metadata": {},
   "source": [
    "# Scraper"
   ]
  },
  {
   "cell_type": "code",
   "execution_count": 9,
   "metadata": {},
   "outputs": [],
   "source": [
    "headers = {\n",
    "    #\"User-Agent\":\"Mozilla/5.0 (X11; Linux x86_64) AppleWebKit/537.36 (KHTML, like Gecko) Chrome/114.0.5735.131 Safari/537.36\",\n",
    "    \"User-Agent\":\"Mozilla/5.0 (Linux; Android 13; Pixel 7) AppleWebKit/537.36 (KHTML, like Gecko) Chrome/114.0.5735.131 Mobile Safari/537.36\",\n",
    "    \"Referer\":\"https://www.mediamarkt.de/de/category/\"\n",
    "}"
   ]
  },
  {
   "cell_type": "code",
   "execution_count": 10,
   "metadata": {},
   "outputs": [],
   "source": [
    "data=[]"
   ]
  },
  {
   "cell_type": "code",
   "execution_count": 11,
   "metadata": {},
   "outputs": [],
   "source": [
    "def scrape_website(headers):\n",
    "    \n",
    "    page_number=1\n",
    "\n",
    "    more_pages=True\n",
    "\n",
    "    counter=12\n",
    "\n",
    "    while more_pages==True:\n",
    "\n",
    "        url=f\"https://www.saturn.de/de/category/laptops-66.html?filter=marketplace:SATURN&page={page_number}\"\n",
    "\n",
    "        # send a GET request to the search result page\n",
    "        response = requests.get(url,headers=headers)\n",
    "        if response.status_code!=200:\n",
    "            raise Exception(f'Request failed with status code {response.status_code}')\n",
    "            \n",
    "        # create a BeautifulSoup object from the response\n",
    "        soup = BeautifulSoup(response.content, 'html.parser')\n",
    "\n",
    "        limit=soup.find('p',{'class':'sc-3f2da4f5-0 iigKXW'})\n",
    "        print(limit)\n",
    "        limit=24\n",
    "        #limit=limit[-3:]\n",
    "\n",
    "        # loop until there are no more pages\n",
    "        if soup.select('sc-2c264fcb-1 la-dJWn'):\n",
    "            print(\"button selected\")\n",
    "            counter += 12\n",
    "            page_number+=1\n",
    "            if counter>=limit:\n",
    "                print(\"Please limit your search\")\n",
    "                return\n",
    "        else:\n",
    "            more_pages = False\n",
    "        \n",
    "        time.sleep(random.randint(1,3))\n",
    "        \n",
    "    search_results = soup.find_all(class_='sc-fc180512-0 eelRbG')\n",
    "\n",
    "    for result in search_results:\n",
    "        # extract the information from each search result div\n",
    "        title=result.find(\"p\").text.strip()\n",
    "        price = result.find('span', {'class': 'sc-e0c7d9f7-0 bPkjPs'}).text\n",
    "        print(title)\n",
    "        print(price)\n",
    "        data.append([title,price])\n",
    "\n",
    "    return data"
   ]
  },
  {
   "cell_type": "code",
   "execution_count": null,
   "metadata": {},
   "outputs": [],
   "source": []
  }
 ],
 "metadata": {
  "kernelspec": {
   "display_name": ".venv",
   "language": "python",
   "name": "python3"
  },
  "language_info": {
   "codemirror_mode": {
    "name": "ipython",
    "version": 3
   },
   "file_extension": ".py",
   "mimetype": "text/x-python",
   "name": "python",
   "nbconvert_exporter": "python",
   "pygments_lexer": "ipython3",
   "version": "3.12.3"
  }
 },
 "nbformat": 4,
 "nbformat_minor": 2
}
